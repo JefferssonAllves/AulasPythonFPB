{
  "cells": [
    {
      "cell_type": "markdown",
      "metadata": {
        "id": "view-in-github",
        "colab_type": "text"
      },
      "source": [
        "<a href=\"https://colab.research.google.com/github/JefferssonAllves/AulasPythonFPB/blob/main/C%C3%B3pia_de_Conhe%C3%A7a_o_Colab.ipynb\" target=\"_parent\"><img src=\"https://colab.research.google.com/assets/colab-badge.svg\" alt=\"Open In Colab\"/></a>"
      ]
    },
    {
      "cell_type": "code",
      "source": [
        "def saudacao():\n",
        "  print('olá, estou dentro da função')\n",
        "\n",
        "def somar():\n",
        "  print(5 + 8)\n",
        "\n",
        "\n",
        ""
      ],
      "metadata": {
        "id": "A_DoNcanl7KT"
      },
      "execution_count": 1,
      "outputs": []
    },
    {
      "cell_type": "code",
      "source": [
        "def somar(a, b):\n",
        "  return a + b\n",
        "\n",
        "soma = somar(5, 8)\n",
        "print(soma)\n",
        "\n",
        "\n",
        "def quadrado(numero):\n",
        "  return numero**2\n",
        "\n",
        "numero = int(input('Digite um numero: '))\n",
        "print(f'O {numero} ao quadrado equivale a {quadrado(numero)}')\n"
      ],
      "metadata": {
        "colab": {
          "base_uri": "https://localhost:8080/"
        },
        "id": "2oQIs71Anf_n",
        "outputId": "1fd0df4c-f871-48b0-b586-91819801f93b"
      },
      "execution_count": 3,
      "outputs": [
        {
          "output_type": "stream",
          "name": "stdout",
          "text": [
            "13\n",
            "Digite um numero: 5\n",
            "O 5 ao quadrado equivale a 25\n"
          ]
        }
      ]
    },
    {
      "cell_type": "code",
      "source": [
        "def exibir_horario_aulas(discplina, horario=9):\n",
        "  print(f'{discplina} - {horario} horas')\n",
        "\n",
        "\n",
        "exibir_horario_aulas(\"Programação\")\n",
        "exibir_horario_aulas(\"Algoritmos\", 10)\n",
        "\n",
        "\n",
        "\n",
        "\n",
        "\n"
      ],
      "metadata": {
        "colab": {
          "base_uri": "https://localhost:8080/"
        },
        "id": "txcClSltqgNY",
        "outputId": "5509f335-874a-42f4-d870-431b1fff1e80"
      },
      "execution_count": 5,
      "outputs": [
        {
          "output_type": "stream",
          "name": "stdout",
          "text": [
            "Programação - 9 horas\n",
            "Algoritmos - 10 horas\n"
          ]
        }
      ]
    },
    {
      "cell_type": "code",
      "source": [
        "def exibir_produto(nome, preco):\n",
        "  print(f'{nome} : R${preco}')\n",
        "\n",
        "\n",
        "\n",
        "exibir_produto('doce de leite', 5.50)\n",
        "exibir_produto(65, 'Bermuda')\n",
        "exibir_produto(preco=100, nome=\"Camiseta\")"
      ],
      "metadata": {
        "id": "fZnC58uQrgdH"
      },
      "execution_count": null,
      "outputs": []
    },
    {
      "cell_type": "code",
      "source": [
        "def positional(*, nome, numero):\n",
        "  print(f'Nome = {nome}, numero = {numero}')\n",
        "\n",
        "print(positional(nome=\"Que massa\", numero=\"15\"))\n",
        "\n",
        "#Tudo que vem depois do *, significa que tem que\n",
        "#deixar explicito o nome do parametro na hora de usar a função"
      ],
      "metadata": {
        "id": "J3yokT-4s_7x"
      },
      "execution_count": null,
      "outputs": []
    },
    {
      "cell_type": "code",
      "source": [
        "#EXERCICIO\n",
        "def gerar_personagem_game(nome, altura=1.75, *, forca, arma):\n",
        "  print(f\"\"\"\n",
        "    nome: {nome}\n",
        "    altura: {altura}\n",
        "    força: {forca}\n",
        "    arma: {arma}\n",
        "  \"\"\")\n",
        "\n",
        "gerar_personagem_game(\"Mario\", forca=4, arma=\"Espada\")"
      ],
      "metadata": {
        "colab": {
          "base_uri": "https://localhost:8080/"
        },
        "id": "SuqJNTb2uQii",
        "outputId": "3b5b18cd-b0cf-486a-a363-da55e7c66e25"
      },
      "execution_count": 6,
      "outputs": [
        {
          "output_type": "stream",
          "name": "stdout",
          "text": [
            "\n",
            "    nome: Mario\n",
            "    altura: 1.75\n",
            "    força: 4\n",
            "    arma: Espada\n",
            "  \n"
          ]
        }
      ]
    },
    {
      "cell_type": "code",
      "source": [
        "def somanotas(*args):\n",
        "  return sum(args)\n",
        "\n",
        "print(somanotas(1,2,3,4,5,6,7))"
      ],
      "metadata": {
        "colab": {
          "base_uri": "https://localhost:8080/"
        },
        "id": "vfaiXOxXx2da",
        "outputId": "c7192b38-6f48-4efc-fd6d-515e3227f8be"
      },
      "execution_count": 7,
      "outputs": [
        {
          "output_type": "stream",
          "name": "stdout",
          "text": [
            "28\n"
          ]
        }
      ]
    },
    {
      "cell_type": "code",
      "source": [
        "def somar_nums(*valores, a):\n",
        "  print(valores)\n",
        "  try:\n",
        "    for valor in valores:\n",
        "      a += valor\n",
        "    return a\n",
        "  except:\n",
        "    return 'Erro'\n",
        "\n",
        "print(somar_nums(1,2,3,'4',5, a=0))"
      ],
      "metadata": {
        "colab": {
          "base_uri": "https://localhost:8080/"
        },
        "id": "7qa1Zf9kykK6",
        "outputId": "b62f3b74-8f27-477f-be0f-80a3d8fac056"
      },
      "execution_count": 9,
      "outputs": [
        {
          "output_type": "stream",
          "name": "stdout",
          "text": [
            "(1, 2, 3, '4', 5)\n",
            "Erro\n"
          ]
        }
      ]
    },
    {
      "cell_type": "code",
      "source": [
        "def exemplo(**kwargs):\n",
        "  print(kwargs)\n",
        "  for atributo, valor in zip(kwargs, kwargs.values()):\n",
        "    print(f'{atributo}: {valor}')\n",
        "\n",
        "exemplo(nome=\"mario\", velocidade=5, forca=7)\n",
        "\n"
      ],
      "metadata": {
        "colab": {
          "base_uri": "https://localhost:8080/"
        },
        "id": "vXG7UjuPzS_a",
        "outputId": "4ca95531-0773-4b27-a827-c9870278ab2a"
      },
      "execution_count": 19,
      "outputs": [
        {
          "output_type": "stream",
          "name": "stdout",
          "text": [
            "{'nome': 'mario', 'velocidade': 5, 'forca': 7}\n",
            "nome: mario\n",
            "velocidade: 5\n",
            "forca: 7\n"
          ]
        }
      ]
    },
    {
      "cell_type": "code",
      "source": [
        "def exemplo(*args, **kwargs):\n",
        "  for args in args:\n",
        "    print(args)\n",
        "  for atributo, valor in zip(kwargs, kwargs.values()):\n",
        "    print(f'{atributo}: {valor}')\n",
        "\n",
        "exemplo(1,2,3,4,5, nome=\"mario\", velocidade=5, forca=7)\n"
      ],
      "metadata": {
        "colab": {
          "base_uri": "https://localhost:8080/"
        },
        "id": "i1LRIXWD0YgT",
        "outputId": "82ebcb06-a45b-46af-ab33-86216bc8a91d"
      },
      "execution_count": 21,
      "outputs": [
        {
          "output_type": "stream",
          "name": "stdout",
          "text": [
            "1\n",
            "2\n",
            "3\n",
            "4\n",
            "5\n",
            "nome: mario\n",
            "velocidade: 5\n",
            "forca: 7\n"
          ]
        }
      ]
    },
    {
      "cell_type": "code",
      "source": [
        "def exemplo(*args, **kwargs):\n",
        "  print(args)\n",
        "  print(kwargs)\n",
        "\n",
        "exemplo(1,2,3,4,5, nome=\"mario\", velocidade=5, forca=7)"
      ],
      "metadata": {
        "colab": {
          "base_uri": "https://localhost:8080/"
        },
        "id": "DWAIa1Fg1IWH",
        "outputId": "bd552208-1e25-45ba-b8f8-44e564380021"
      },
      "execution_count": 24,
      "outputs": [
        {
          "output_type": "stream",
          "name": "stdout",
          "text": [
            "(1, 2, 3, 4, 5)\n",
            "{'nome': 'mario', 'velocidade': 5, 'forca': 7}\n"
          ]
        }
      ]
    },
    {
      "cell_type": "code",
      "source": [
        "def somar_valores(*args):\n",
        "  print(f\"Soma valores: {sum(args)}\")\n",
        "\n",
        "def exibir_perfil(nome=\"Jeffersson\", *args, **kwargs):\n",
        "  print(\"============ P E R F I L ================\")\n",
        "  print(f\"Nome: {nome}\")\n",
        "  print(f\"============ A R G U M E N T O S ================\")\n",
        "  print(args)\n",
        "  print(f\"============ K W A R G S ================\")\n",
        "  for atributo, valor in zip(kwargs, kwargs.values()):\n",
        "    print(f'{atributo}: {valor}')\n",
        "  print(\"==========================================\")\n",
        "\n",
        "def multiplica_todos(*args):\n",
        "  multiplicacao=1\n",
        "  for valor in args:\n",
        "    multiplicacao *= valor\n",
        "  return multiplicacao\n",
        "\n",
        "def configurar_sistema(**kwargs):\n",
        "  for configuracao, valor in zip(kwargs, kwargs.values()):\n",
        "    print(f'{configuracao} => {valor}')\n",
        "\n",
        "\n",
        "\n",
        "#Usando as funções\n",
        "somar_valores(1,2,3,4,5,6,7,8,9,10)\n",
        "exibir_perfil(\"Jeffersson\", \"preguiçoso\", \"dorme muito\", inteligencia=0, burrice=99)\n",
        "print(f\"multiplicação: {multiplica_todos(1,2,3,4,5)}\")\n",
        "configurar_sistema(tema=\"dark\")\n"
      ],
      "metadata": {
        "colab": {
          "base_uri": "https://localhost:8080/"
        },
        "id": "goaKCrPb1jZ6",
        "outputId": "ddb6d13b-f0f5-40ff-9483-0a7d94ee6ab8"
      },
      "execution_count": 32,
      "outputs": [
        {
          "output_type": "stream",
          "name": "stdout",
          "text": [
            "Soma valores: 55\n",
            "============ P E R F I L ================\n",
            "Nome: Jeffersson\n",
            "============ A R G U M E N T O S ================\n",
            "('preguiçoso', 'dorme muito')\n",
            "============ K W A R G S ================\n",
            "inteligencia: 0\n",
            "burrice: 99\n",
            "==========================================\n",
            "multiplicação: 120\n",
            "tema => dark\n"
          ]
        }
      ]
    },
    {
      "cell_type": "code",
      "source": [
        "from datetime import date, datetime\n",
        "\n",
        "\n",
        "data_atual = date.today()\n",
        "data_atual_hora = datetime.now()\n",
        "print(data_atual)\n",
        "print(data_atual_hora)\n",
        "\n",
        "\n",
        "data_formatada = data_atual.strftime(\"%d/%m/%Y\")\n",
        "data_formatada_hora = data_atual_hora.strftime(\"%d/%m/%Y %H:%M:%S\")\n",
        "print(data_formatada)\n",
        "print(data_formatada_hora)"
      ],
      "metadata": {
        "colab": {
          "base_uri": "https://localhost:8080/"
        },
        "id": "BjijDJkT7NW8",
        "outputId": "aaf5e311-cf1f-41c2-f5db-6c8b7376f0a8"
      },
      "execution_count": 38,
      "outputs": [
        {
          "output_type": "stream",
          "name": "stdout",
          "text": [
            "2025-05-13\n",
            "2025-05-13 14:00:38.182466\n",
            "13/05/2025\n",
            "13/05/2025 14:00:38\n"
          ]
        }
      ]
    },
    {
      "cell_type": "code",
      "source": [
        "!pip install pygame\n"
      ],
      "metadata": {
        "colab": {
          "base_uri": "https://localhost:8080/"
        },
        "id": "e1kf_8P28Nls",
        "outputId": "6101521b-5059-495b-ea40-ca8519439841"
      },
      "execution_count": 40,
      "outputs": [
        {
          "output_type": "stream",
          "name": "stdout",
          "text": [
            "Requirement already satisfied: pygame in /usr/local/lib/python3.11/dist-packages (2.6.1)\n"
          ]
        }
      ]
    },
    {
      "cell_type": "code",
      "source": [],
      "metadata": {
        "colab": {
          "base_uri": "https://localhost:8080/",
          "height": 176
        },
        "id": "AiE700-_85OY",
        "outputId": "a78a4749-fcd7-4a15-ff46-b15bd1a45f15"
      },
      "execution_count": 43,
      "outputs": [
        {
          "output_type": "error",
          "ename": "AttributeError",
          "evalue": "'pygame.surface.Surface' object has no attribute 'update'",
          "traceback": [
            "\u001b[0;31m---------------------------------------------------------------------------\u001b[0m",
            "\u001b[0;31mAttributeError\u001b[0m                            Traceback (most recent call last)",
            "\u001b[0;32m<ipython-input-43-aa39c2c7b855>\u001b[0m in \u001b[0;36m<cell line: 0>\u001b[0;34m()\u001b[0m\n\u001b[1;32m      9\u001b[0m \u001b[0;34m\u001b[0m\u001b[0m\n\u001b[1;32m     10\u001b[0m \u001b[0;32mwhile\u001b[0m \u001b[0;32mTrue\u001b[0m\u001b[0;34m:\u001b[0m\u001b[0;34m\u001b[0m\u001b[0;34m\u001b[0m\u001b[0m\n\u001b[0;32m---> 11\u001b[0;31m   \u001b[0mtela\u001b[0m\u001b[0;34m.\u001b[0m\u001b[0mupdate\u001b[0m\u001b[0;34m(\u001b[0m\u001b[0;34m)\u001b[0m\u001b[0;34m\u001b[0m\u001b[0;34m\u001b[0m\u001b[0m\n\u001b[0m",
            "\u001b[0;31mAttributeError\u001b[0m: 'pygame.surface.Surface' object has no attribute 'update'"
          ]
        }
      ]
    }
  ],
  "metadata": {
    "colab": {
      "toc_visible": true,
      "provenance": [],
      "include_colab_link": true
    },
    "kernelspec": {
      "display_name": "Python 3",
      "name": "python3"
    }
  },
  "nbformat": 4,
  "nbformat_minor": 0
}