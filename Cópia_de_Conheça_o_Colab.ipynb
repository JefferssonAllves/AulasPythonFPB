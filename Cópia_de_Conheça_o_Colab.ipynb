{
  "cells": [
    {
      "cell_type": "markdown",
      "metadata": {
        "id": "view-in-github",
        "colab_type": "text"
      },
      "source": [
        "<a href=\"https://colab.research.google.com/github/JefferssonAllves/AulasPythonFPB/blob/main/C%C3%B3pia_de_Conhe%C3%A7a_o_Colab.ipynb\" target=\"_parent\"><img src=\"https://colab.research.google.com/assets/colab-badge.svg\" alt=\"Open In Colab\"/></a>"
      ]
    },
    {
      "cell_type": "code",
      "source": [
        "def saudacao():\n",
        "  print('olá, estou dentro da função')\n",
        "\n",
        "def somar():\n",
        "  print(5 + 8)\n",
        "\n",
        "\n",
        ""
      ],
      "metadata": {
        "id": "A_DoNcanl7KT"
      },
      "execution_count": 1,
      "outputs": []
    },
    {
      "cell_type": "code",
      "source": [
        "def somar(a, b):\n",
        "  return a + b\n",
        "\n",
        "soma = somar(5, 8)\n",
        "print(soma)\n",
        "\n",
        "\n",
        "def quadrado(numero):\n",
        "  return numero**2\n",
        "\n",
        "numero = int(input('Digite um numero: '))\n",
        "print(f'O {numero} ao quadrado equivale a {quadrado(numero)}')\n"
      ],
      "metadata": {
        "colab": {
          "base_uri": "https://localhost:8080/"
        },
        "id": "2oQIs71Anf_n",
        "outputId": "1fd0df4c-f871-48b0-b586-91819801f93b"
      },
      "execution_count": 3,
      "outputs": [
        {
          "output_type": "stream",
          "name": "stdout",
          "text": [
            "13\n",
            "Digite um numero: 5\n",
            "O 5 ao quadrado equivale a 25\n"
          ]
        }
      ]
    },
    {
      "cell_type": "code",
      "source": [
        "def exibir_horario_aulas(discplina, horario=9):\n",
        "  print(f'{discplina} - {horario} horas')\n",
        "\n",
        "\n",
        "exibir_horario_aulas(\"Programação\")\n",
        "exibir_horario_aulas(\"Algoritmos\", 10)\n",
        "\n",
        "\n",
        "\n",
        "\n",
        "\n"
      ],
      "metadata": {
        "id": "txcClSltqgNY"
      },
      "execution_count": null,
      "outputs": []
    }
  ],
  "metadata": {
    "colab": {
      "toc_visible": true,
      "provenance": [],
      "include_colab_link": true
    },
    "kernelspec": {
      "display_name": "Python 3",
      "name": "python3"
    }
  },
  "nbformat": 4,
  "nbformat_minor": 0
}